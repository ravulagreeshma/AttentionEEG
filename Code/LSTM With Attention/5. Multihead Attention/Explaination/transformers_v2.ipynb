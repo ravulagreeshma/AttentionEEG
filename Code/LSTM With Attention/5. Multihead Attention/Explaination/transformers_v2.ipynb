{
 "cells": [
  {
   "cell_type": "code",
   "execution_count": 25,
   "id": "ff36c77c-4dd6-4602-b3f0-43253e735015",
   "metadata": {},
   "outputs": [],
   "source": [
    "import torch\n",
    "import torch.nn as nn"
   ]
  },
  {
   "cell_type": "markdown",
   "id": "04431f33-6c8c-41d3-a8f5-fce2cba4e0ec",
   "metadata": {},
   "source": [
    "Heads= no.of heads you are splitting"
   ]
  },
  {
   "cell_type": "markdown",
   "id": "8a7d9821-85c4-43ae-9f78-685272a8d807",
   "metadata": {},
   "source": [
    "embed_size=256"
   ]
  },
  {
   "cell_type": "markdown",
   "id": "fe6eee42-5ccd-496b-9dfb-ae9879af9db0",
   "metadata": {
    "tags": []
   },
   "source": [
    "### **1.Implementing Multihead attention**\n",
    "#### 1.1 Class SelfAttention\n",
    "- Define embed_size=256,  heads=8, self.head_dim=256//8==32, else raise assertion error\n",
    "- Set values, keys, queries to embed_size"
   ]
  },
  {
   "cell_type": "code",
   "execution_count": 26,
   "id": "377901e8-ca8a-49cb-9a54-2a001bd97de7",
   "metadata": {},
   "outputs": [],
   "source": [
    "class SelfAttention(nn.Module):\n",
    "    def __init__(self, embed_size, heads):\n",
    "        super(SelfAttention, self).__init__()\n",
    "        self.embed_size = embed_size\n",
    "        self.heads = heads\n",
    "        \n",
    "        #for integer division\n",
    "        self.head_dim = embed_size // heads\n",
    "#self.head_dim=256/8=32, for eg:if we have 256/7, then that would not be possible, so we throw assertion error\n",
    "\n",
    "\n",
    "#32*8==embed_size, i.e 256==256, if it does not raise an error\n",
    "        assert (\n",
    "            self.head_dim * heads == embed_size\n",
    "        ), \"Embedding size needs to be divisible by heads\"\n",
    "\n",
    "#defining linear layers \n",
    "\n",
    "#it just gonna map self.head_dim==32 to self.head_dim==32\n",
    "        self.values = nn.Linear(self.head_dim, self.head_dim, bias=False)\n",
    "        self.keys = nn.Linear(self.head_dim, self.head_dim, bias=False)\n",
    "        self.queries = nn.Linear(self.head_dim, self.head_dim, bias=False)\n",
    "\n",
    "        #after we concatenate\n",
    "        #8*32(256)==(256)\n",
    "        self.fc_out = nn.Linear(heads * self.head_dim, embed_size)"
   ]
  },
  {
   "cell_type": "markdown",
   "id": "c7903ea4-aeae-4d47-9da0-e26836c6dbc0",
   "metadata": {},
   "source": [
    "Y.shape is (n,m). So Y.shape[0] is n."
   ]
  },
  {
   "cell_type": "markdown",
   "id": "fec07c55-d5be-4b30-9184-b0da8e9c6b14",
   "metadata": {},
   "source": [
    "#### 1.2 forward function\n",
    "\n",
    "- Initially, we give training examples\n",
    "- Split the embedding i.e 256 into 8 heads\n",
    "- Multiply queries with keys\n",
    "- Mask\n",
    "- Applying attention function\n",
    "- returning output"
   ]
  },
  {
   "cell_type": "code",
   "execution_count": 27,
   "id": "c031b090-6033-4d60-9dc4-a7bf7222b419",
   "metadata": {},
   "outputs": [],
   "source": [
    "def forward(self, values, keys, query, mask):\n",
    "    \n",
    "#first thing is we gonna give no.of training examples, how many examples we send at the same time\n",
    "    N = query.shape[0]\n",
    "\n",
    "#these lengths depends on where you use attention mechanism,is going to correspond source_len and target_len\n",
    "#we are doing abstractly\n",
    "\n",
    "        \n",
    "    ## Split the embedding into self.heads different pieces, 256 into 8 heads\n",
    "    #self.heads=8, self.head_dim=32\n",
    "    #so previously the below was only one dimension i.e self.head_dim=32\n",
    "    \n",
    "    #lengths depends on where we use attn mechanism is used\n",
    "        #corresponds to src len, target len, we just use abstractly\n",
    "       \n",
    "    value_len, key_len, query_len = values.shape[1], keys.shape[1], query.shape[1]\n",
    "    \n",
    "    values = values.reshape(N, value_len, self.heads, self.head_dim)\n",
    "    keys = keys.reshape(N, key_len, self.heads, self.head_dim)\n",
    "    query = query.reshape(N, query_len, self.heads, self.head_dim)\n",
    " \n",
    "  ##after reshaping we need to send them through linear layers\n",
    "    \n",
    "    values = self.values(values)  # (N, value_len, heads, head_dim)\n",
    "    keys = self.keys(keys)  # (N, key_len, heads, head_dim)\n",
    "    queries = self.queries(query)  # (N, query_len, heads, heads_dim)\n",
    "    \n",
    "    #multiply queries with the keys\n",
    "        #output from energy\n",
    "        #einsum -used for matrix multiplication      \n",
    "    energy = torch.einsum(\"nqhd,nkhd->nhqk\", [queries, keys])\n",
    "        # queries shape: (N, query_len, heads, heads_dim), :(n,q, 8, 32)\n",
    "        # keys shape: (N, key_len, heads, heads_dim), :(n,k, 8, 32)\n",
    "        # energy: (N, heads, query_len, key_len), :(n, 8,q, k)\n",
    "        #\"nqhd, nkhd--->nhqk\"\n",
    "        #q-query length,[queries, keys]\n",
    "        #k-key length\n",
    "        #h-heads\n",
    "        #d-heads_dimension\n",
    "        \n",
    "        \n",
    "        \n",
    "        # Mask padded indices so their weights become 0\n",
    "        #Mask for the target gonna be a triangular matrix\n",
    "    if mask is not None:\n",
    "        energy = energy.masked_fill(mask == 0, float(\"-1e20\"))\n",
    "           \n",
    "        \n",
    "        #run the attention(q,k,v)=softmax(qkt/sqrt(dk))V\n",
    "        # Normalize energy values similarly to seq2seq + attention\n",
    "        # so that they sum to 1. Also divide by scaling factor for\n",
    "        # better stability\n",
    "        #normalizing according key_len\n",
    "    attention = torch.softmax(energy / (self.embed_size ** (1 / 2)), dim=3)\n",
    "        # attention shape: (N, heads, query_len, key_len)\n",
    "        \n",
    "        \n",
    "        \n",
    "    out = torch.einsum(\"nhql,nlhd->nqhd\", [attention, values]).reshape(\n",
    "            N, query_len, self.heads * self.head_dim\n",
    "        )\n",
    "        #l-dimension we are gonna multiply across\n",
    "        # attention shape: (N, heads, query_len, key_len)\n",
    "        # values shape: (N, value_len, heads, heads_dim)\n",
    "        # output after (einsum) matrix multiply: (N, query_len, heads, head_dim), then\n",
    "        # we reshape and flatten the last two dimensions.\n",
    "        ##if we can see key_len, value_len are goin to be the same\n",
    "        \n",
    "    out = self.fc_out(out)\n",
    "        # Linear layer doesn't modify the shape, final shape will be\n",
    "        # (N, query_len, embed_size)\n",
    "\n",
    "    return out\n",
    "        \n",
    "        \n",
    "        \n",
    "        "
   ]
  },
  {
   "cell_type": "markdown",
   "id": "843cbab8-6936-47b6-b152-e641bb826294",
   "metadata": {},
   "source": [
    "### **2. Implementing Transformers block i.e Multihead, feed-forward**"
   ]
  },
  {
   "cell_type": "markdown",
   "id": "90e49de5-4e2d-494f-88de-792c529f9c9c",
   "metadata": {},
   "source": [
    "#### 2.1 Defining Transformers class\n",
    "\n",
    "- We are going to send 256, 8, dropout, forward expansion\n",
    "- 1.Multi-head --- attentionself.attention uses the attention we implemented above (256,8)\n",
    "- 2.Normalization --- We are going to use 2 normalizations, sending through multihead, normalization, feedforward, normalization\n",
    "- Defining Feedforward ---- forward_expansion (4 in the paper) * embed size, this block is just doing the extra computations"
   ]
  },
  {
   "cell_type": "code",
   "execution_count": 28,
   "id": "fde0f847-7807-47be-b89c-d7e79f838599",
   "metadata": {},
   "outputs": [],
   "source": [
    "class TransformerBlock(nn.Module):\n",
    "    def __init__(self, embed_size, heads, dropout, forward_expansion):\n",
    "        super(TransformerBlock, self).__init__()\n",
    "        self.attention = SelfAttention(embed_size, heads)\n",
    "        self.norm1 = nn.LayerNorm(embed_size)\n",
    "        self.norm2 = nn.LayerNorm(embed_size)\n",
    "\n",
    "        self.feed_forward = nn.Sequential(\n",
    "            nn.Linear(embed_size, forward_expansion * embed_size),\n",
    "            nn.ReLU(),\n",
    "            nn.Linear(forward_expansion * embed_size, embed_size),\n",
    "        )\n",
    "\n",
    "        self.dropout = nn.Dropout(dropout)"
   ]
  },
  {
   "cell_type": "markdown",
   "id": "4d842784-f1ab-4d41-be20-9dfbafff859c",
   "metadata": {},
   "source": [
    "#### 2.2 Defining forward function\n",
    "- We add the skip connection using attention+query"
   ]
  },
  {
   "cell_type": "code",
   "execution_count": 29,
   "id": "503c8bf0-17cf-42dc-9f83-481d526b6d7a",
   "metadata": {},
   "outputs": [],
   "source": [
    "def forward(self, value, key, query, mask):\n",
    "        attention = self.attention(value, key, query, mask)\n",
    "\n",
    "        # Add skip connection, run through normalization and finally dropout\n",
    "        x = self.dropout(self.norm1(attention + query))\n",
    "        forward = self.feed_forward(x)\n",
    "        out = self.dropout(self.norm2(forward + x))\n",
    "        return out"
   ]
  },
  {
   "cell_type": "markdown",
   "id": "1b4feb87-1bdd-44b2-af4d-5f9b30b4b82c",
   "metadata": {},
   "source": [
    "### **3. Implementing encoder block**"
   ]
  },
  {
   "cell_type": "markdown",
   "id": "9659a741-87a6-4876-880f-f6252658c867",
   "metadata": {},
   "source": [
    "#### 3.1 Class Encoder\n",
    "\n",
    "- 1. Defining hyperparameters of a model, src_vocab_size, heads=8, num_layers== how many times you are repeating the encoder\n",
    "- 2. Max_length is related to positional encoding. We need to be sending hwo long is the max sentence length\n",
    "- 3. Word embedding - (src_vocab_size, embed_size)\n",
    "- 4. Position Embedding - (max_length, embed_size)\n",
    "- 5. Passes through layers (Transformers Block,....)\n",
    "\n",
    "\n",
    "#### 3.2 Forward function\n",
    "- 1. Calculating positions through positions formula\n",
    "- 2. Combining word embedding and positional embedding"
   ]
  },
  {
   "cell_type": "code",
   "execution_count": 36,
   "id": "310b5557-8435-4627-806a-28897f45f06e",
   "metadata": {},
   "outputs": [],
   "source": [
    "class Encoder(nn.Module):\n",
    "    def __init__(\n",
    "        self,\n",
    "        src_vocab_size,\n",
    "        embed_size,\n",
    "        num_layers,\n",
    "        heads,\n",
    "        device,\n",
    "        forward_expansion,\n",
    "        dropout,\n",
    "        max_length,\n",
    "    ):\n",
    "\n",
    "        super(Encoder, self).__init__()\n",
    "        self.embed_size = embed_size\n",
    "        self.device = device\n",
    "        self.word_embedding = nn.Embedding(src_vocab_size, embed_size)\n",
    "        self.position_embedding = nn.Embedding(max_length, embed_size)\n",
    "        \n",
    "        self.layers = nn.ModuleList(\n",
    "            [\n",
    "                TransformerBlock(\n",
    "                    embed_size,\n",
    "                    heads,\n",
    "                    dropout=dropout,\n",
    "                    forward_expansion=forward_expansion,\n",
    "                )\n",
    "                for _ in range(num_layers)\n",
    "            ]\n",
    "        )\n",
    "\n",
    "\n",
    "\n",
    "        self.dropout = nn.Dropout(dropout)\n",
    "\n",
    "    def forward(self, x, mask):\n",
    "        \n",
    "        ##what we have from the begining\n",
    "        N, seq_length = x.shape\n",
    "        \n",
    "        ##used how words are structured, permutations of the words\n",
    "        positions = torch.arange(0, seq_length).expand(N, seq_length).to(self.device)\n",
    "        \n",
    "        #word_embedding and position_embedding-- output\n",
    "        out = self.dropout(\n",
    "            (self.word_embedding(x) + self.position_embedding(positions))\n",
    "        )\n",
    "\n",
    "        # In the Encoder the query, key, value are all the same, it's in the\n",
    "        # decoder this will change. This might look a bit odd in this case.\n",
    "        #thats why we have out, out, out\n",
    "        for layer in self.layers:\n",
    "            out = layer(out, out, out, mask)\n",
    "\n",
    "        return out"
   ]
  },
  {
   "cell_type": "markdown",
   "id": "491c50eb-8e3a-4bad-a417-9e26be3ea955",
   "metadata": {},
   "source": [
    "### **4. Implementing decoder block**"
   ]
  },
  {
   "cell_type": "markdown",
   "id": "ec046080-3c9d-4bcb-b6fd-b0d5456da7a3",
   "metadata": {},
   "source": [
    "- Send it through masked multihead attention then use transformers block\n",
    "- trg_mask=masked multi head attention"
   ]
  },
  {
   "cell_type": "code",
   "execution_count": 31,
   "id": "c127e40c-e19e-4d46-be74-ca7b88ba432a",
   "metadata": {},
   "outputs": [],
   "source": [
    "class DecoderBlock(nn.Module):\n",
    "    def __init__(self, embed_size, heads, forward_expansion, dropout, device):\n",
    "        super(DecoderBlock, self).__init__()\n",
    "        self.norm = nn.LayerNorm(embed_size)\n",
    "        self.attention = SelfAttention(embed_size, heads=heads)\n",
    "        self.transformer_block = TransformerBlock(\n",
    "            embed_size, heads, dropout, forward_expansion\n",
    "        )\n",
    "        self.dropout = nn.Dropout(dropout)\n",
    "\n",
    "    def forward(self, x, value, key, src_mask, trg_mask):\n",
    "        attention = self.attention(x, x, x, trg_mask)\n",
    "        query = self.dropout(self.norm(attention + x))\n",
    "        out = self.transformer_block(value, key, query, src_mask)\n",
    "        return out"
   ]
  },
  {
   "cell_type": "markdown",
   "id": "6fc0dcb9-c3cb-48bf-a948-871aeed7cc65",
   "metadata": {},
   "source": [
    "### **5. Implementing decoder**"
   ]
  },
  {
   "cell_type": "code",
   "execution_count": 32,
   "id": "3335a73a-a7b7-4804-9b32-3e4dbe069d0c",
   "metadata": {},
   "outputs": [],
   "source": [
    "class Decoder(nn.Module):\n",
    "    def __init__(\n",
    "        self,\n",
    "        trg_vocab_size,\n",
    "        embed_size,\n",
    "        num_layers,\n",
    "        heads,\n",
    "        forward_expansion,\n",
    "        dropout,\n",
    "        device,\n",
    "        max_length,\n",
    "    ):\n",
    "        super(Decoder, self).__init__()\n",
    "        self.device = device\n",
    "        self.word_embedding = nn.Embedding(trg_vocab_size, embed_size)\n",
    "        self.position_embedding = nn.Embedding(max_length, embed_size)\n",
    "\n",
    "        self.layers = nn.ModuleList(\n",
    "            [\n",
    "                DecoderBlock(embed_size, heads, forward_expansion, dropout, device)\n",
    "                for _ in range(num_layers)\n",
    "            ]\n",
    "        )\n",
    "        self.fc_out = nn.Linear(embed_size, trg_vocab_size)\n",
    "        self.dropout = nn.Dropout(dropout)\n",
    "\n",
    "    def forward(self, x, enc_out, src_mask, trg_mask):\n",
    "        N, seq_length = x.shape\n",
    "        positions = torch.arange(0, seq_length).expand(N, seq_length).to(self.device)\n",
    "        x = self.dropout((self.word_embedding(x) + self.position_embedding(positions)))\n",
    "\n",
    "        for layer in self.layers:\n",
    "            x = layer(x, enc_out, enc_out, src_mask, trg_mask)\n",
    "\n",
    "        out = self.fc_out(x)\n",
    "\n",
    "        return out"
   ]
  },
  {
   "cell_type": "markdown",
   "id": "bd95fc0f-2ca9-4056-8ff9-6cbdfd16f164",
   "metadata": {},
   "source": [
    "### **6. Implementing Transformers**"
   ]
  },
  {
   "cell_type": "markdown",
   "id": "fbd02333-155f-439b-abd1-66c3301b84f8",
   "metadata": {},
   "source": [
    "src_pad_idx,trg_pad_idx=used for masking"
   ]
  },
  {
   "cell_type": "code",
   "execution_count": 33,
   "id": "2a1b7c1f-553a-421c-9e42-322be63561a3",
   "metadata": {},
   "outputs": [],
   "source": [
    "class Transformer(nn.Module):\n",
    "    def __init__(\n",
    "        self,\n",
    "        src_vocab_size,\n",
    "        trg_vocab_size,\n",
    "        src_pad_idx,\n",
    "        trg_pad_idx,\n",
    "        embed_size=512,\n",
    "        num_layers=6,\n",
    "        forward_expansion=4,\n",
    "        heads=8,\n",
    "        dropout=0,\n",
    "        device=\"cpu\",\n",
    "        max_length=100,\n",
    "    ):\n",
    "\n",
    "        super(Transformer, self).__init__()\n",
    "\n",
    "        self.encoder = Encoder(\n",
    "            src_vocab_size,\n",
    "            embed_size,\n",
    "            num_layers,\n",
    "            heads,\n",
    "            device,\n",
    "            forward_expansion,\n",
    "            dropout,\n",
    "            max_length,\n",
    "        )\n",
    "\n",
    "        self.decoder = Decoder(\n",
    "            trg_vocab_size,\n",
    "            embed_size,\n",
    "            num_layers,\n",
    "            heads,\n",
    "            forward_expansion,\n",
    "            dropout,\n",
    "            device,\n",
    "            max_length,\n",
    "        )\n",
    "\n",
    "        self.src_pad_idx = src_pad_idx\n",
    "        self.trg_pad_idx = trg_pad_idx\n",
    "        self.device = device\n",
    "\n",
    "    def make_src_mask(self, src):\n",
    "        src_mask = (src != self.src_pad_idx).unsqueeze(1).unsqueeze(2)\n",
    "        # (N, 1, 1, src_len)\n",
    "        return src_mask.to(self.device)\n",
    "\n",
    "    def make_trg_mask(self, trg):\n",
    "        N, trg_len = trg.shape\n",
    "        #triangular matrix\n",
    "        trg_mask = torch.tril(torch.ones((trg_len, trg_len))).expand(\n",
    "            N, 1, trg_len, trg_len\n",
    "        )\n",
    "\n",
    "        return trg_mask.to(self.device)\n",
    "\n",
    "    def forward(self, src, trg):\n",
    "        src_mask = self.make_src_mask(src)\n",
    "        trg_mask = self.make_trg_mask(trg)\n",
    "        enc_src = self.encoder(src, src_mask)\n",
    "        out = self.decoder(trg, enc_src, src_mask, trg_mask)\n",
    "        return out\n",
    "        \n"
   ]
  },
  {
   "cell_type": "code",
   "execution_count": 35,
   "id": "ce4af7e0-0264-4b42-819e-1dc73e204a8c",
   "metadata": {},
   "outputs": [
    {
     "name": "stdout",
     "output_type": "stream",
     "text": [
      "cuda\n"
     ]
    }
   ],
   "source": [
    "if __name__ == \"__main__\":\n",
    "    device = torch.device(\"cuda\" if torch.cuda.is_available() else \"cpu\")\n",
    "    print(device)\n",
    "\n",
    "    x = torch.tensor([[1, 5, 6, 4, 3, 9, 5, 2, 0], [1, 8, 7, 3, 4, 5, 6, 7, 2]]).to(\n",
    "        device\n",
    "    )\n",
    "    trg = torch.tensor([[1, 7, 4, 3, 5, 9, 2, 0], [1, 5, 6, 2, 4, 7, 6, 2]]).to(device)\n",
    "\n",
    "    src_pad_idx = 0\n",
    "    trg_pad_idx = 0\n",
    "    src_vocab_size = 10\n",
    "    trg_vocab_size = 10\n",
    "    model = Transformer(src_vocab_size, trg_vocab_size, src_pad_idx, trg_pad_idx, device=device).to(\n",
    "        device\n",
    "    )"
   ]
  },
  {
   "cell_type": "code",
   "execution_count": 1,
   "id": "5b3cc13b-3931-4d85-a64f-d9530f96e93e",
   "metadata": {},
   "outputs": [
    {
     "ename": "SyntaxError",
     "evalue": "invalid syntax (3905517398.py, line 1)",
     "output_type": "error",
     "traceback": [
      "\u001b[0;36m  File \u001b[0;32m\"/tmp/ipykernel_173/3905517398.py\"\u001b[0;36m, line \u001b[0;32m1\u001b[0m\n\u001b[0;31m    -nvidia smi\u001b[0m\n\u001b[0m            ^\u001b[0m\n\u001b[0;31mSyntaxError\u001b[0m\u001b[0;31m:\u001b[0m invalid syntax\n"
     ]
    }
   ],
   "source": [
    "-nvidia smi"
   ]
  },
  {
   "cell_type": "code",
   "execution_count": null,
   "id": "37d2c9e1-fdf9-436e-84d6-e62e464750d1",
   "metadata": {},
   "outputs": [],
   "source": []
  }
 ],
 "metadata": {
  "kernelspec": {
   "display_name": "Python 3 (ipykernel)",
   "language": "python",
   "name": "python3"
  },
  "language_info": {
   "codemirror_mode": {
    "name": "ipython",
    "version": 3
   },
   "file_extension": ".py",
   "mimetype": "text/x-python",
   "name": "python",
   "nbconvert_exporter": "python",
   "pygments_lexer": "ipython3",
   "version": "3.9.7"
  }
 },
 "nbformat": 4,
 "nbformat_minor": 5
}
