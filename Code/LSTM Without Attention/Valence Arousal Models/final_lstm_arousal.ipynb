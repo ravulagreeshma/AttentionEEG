{
 "cells": [
  {
   "cell_type": "code",
   "execution_count": 1,
   "id": "123f92ab-28a3-402f-9bfb-51bdf7864df3",
   "metadata": {},
   "outputs": [
    {
     "name": "stdout",
     "output_type": "stream",
     "text": [
      "Tue Nov 30 14:06:07 2021       \n",
      "+-----------------------------------------------------------------------------+\n",
      "| NVIDIA-SMI 460.91.03    Driver Version: 460.91.03    CUDA Version: 11.2     |\n",
      "|-------------------------------+----------------------+----------------------+\n",
      "| GPU  Name        Persistence-M| Bus-Id        Disp.A | Volatile Uncorr. ECC |\n",
      "| Fan  Temp  Perf  Pwr:Usage/Cap|         Memory-Usage | GPU-Util  Compute M. |\n",
      "|                               |                      |               MIG M. |\n",
      "|===============================+======================+======================|\n",
      "|   0  GeForce RTX 208...  Off  | 00000000:84:00.0 Off |                  N/A |\n",
      "| 24%   34C    P8    11W / 250W |   2306MiB / 11019MiB |      0%      Default |\n",
      "|                               |                      |                  N/A |\n",
      "+-------------------------------+----------------------+----------------------+\n",
      "|   1  GeForce RTX 208...  Off  | 00000000:85:00.0 Off |                  N/A |\n",
      "| 22%   29C    P8     1W / 250W |      3MiB / 11019MiB |      0%      Default |\n",
      "|                               |                      |                  N/A |\n",
      "+-------------------------------+----------------------+----------------------+\n",
      "|   2  GeForce RTX 208...  Off  | 00000000:88:00.0 Off |                  N/A |\n",
      "| 22%   30C    P8    16W / 250W |      3MiB / 11019MiB |      0%      Default |\n",
      "|                               |                      |                  N/A |\n",
      "+-------------------------------+----------------------+----------------------+\n",
      "|   3  GeForce RTX 208...  Off  | 00000000:89:00.0 Off |                  N/A |\n",
      "| 52%   84C    P2   189W / 250W |   5924MiB / 11019MiB |     84%      Default |\n",
      "|                               |                      |                  N/A |\n",
      "+-------------------------------+----------------------+----------------------+\n",
      "                                                                               \n",
      "+-----------------------------------------------------------------------------+\n",
      "| Processes:                                                                  |\n",
      "|  GPU   GI   CI        PID   Type   Process name                  GPU Memory |\n",
      "|        ID   ID                                                   Usage      |\n",
      "|=============================================================================|\n",
      "+-----------------------------------------------------------------------------+\n"
     ]
    }
   ],
   "source": [
    "!nvidia-smi"
   ]
  },
  {
   "cell_type": "code",
   "execution_count": 2,
   "id": "3d255ea9-c8d1-45ff-af3d-ac762c9f6db2",
   "metadata": {},
   "outputs": [],
   "source": [
    "import torch\n",
    "from torch import nn\n",
    "import torch.nn.functional as F\n",
    "\n",
    "from sklearn.metrics import accuracy_score, f1_score, precision_score, recall_score\n",
    "\n",
    "\n",
    "import os\n",
    "import pickle\n",
    "import numpy as np\n",
    "import math\n",
    "import matplotlib.pyplot as plt"
   ]
  },
  {
   "cell_type": "code",
   "execution_count": 3,
   "id": "9c761d57-06ca-45a0-b0fc-69e4d62afccb",
   "metadata": {},
   "outputs": [],
   "source": [
    "class DeapS2SDatasetClassification(torch.utils.data.Dataset):\n",
    "    \n",
    "    def __init__(self, path):\n",
    "\n",
    "        _, _, filenames = next(os.walk(path))\n",
    "        filenames = sorted(filenames)\n",
    "        all_data = []\n",
    "        all_label = []\n",
    "        for dat in filenames:\n",
    "            temp = pickle.load(open(os.path.join(path, dat), 'rb'), encoding='latin1')\n",
    "            all_data.append(temp['data'])\n",
    "            all_label.append(temp['labels'][:,1:2])\n",
    "\n",
    "        self.data = np.vstack(all_data)\n",
    "        self.label = np.vstack(all_label)\n",
    "        del temp, all_data, all_label\n",
    "\n",
    "    def __len__(self):\n",
    "        return self.data.shape[0]\n",
    "\n",
    "    def __getitem__(self, idx):\n",
    "        single_data = self.data[idx]\n",
    "        single_label = (self.label[idx] > 5).astype(float)\n",
    "        \n",
    "        batch = {\n",
    "            'data': torch.Tensor(single_data),\n",
    "            'label': torch.Tensor(single_label)\n",
    "        }\n",
    "\n",
    "        return batch"
   ]
  },
  {
   "cell_type": "code",
   "execution_count": 4,
   "id": "a3902101-4820-467e-b24d-beb91ed95651",
   "metadata": {},
   "outputs": [
    {
     "name": "stdout",
     "output_type": "stream",
     "text": [
      "1024\n",
      "256\n"
     ]
    }
   ],
   "source": [
    "#@title Dataset Parameters { vertical-output: true }\n",
    "model_type = \"classification\" #@param [\"classification\", \"regression\"]\n",
    "batch_size = 12 #@param {type:\"integer\"}\n",
    "\n",
    "if model_type == \"classification\":\n",
    "    dataset = DeapS2SDatasetClassification('data_preprocessed_python')\n",
    "\n",
    "\n",
    "torch.manual_seed(1)\n",
    "indices = torch.randperm(len(dataset)).tolist()\n",
    "train_ind = int(0.8 * len(dataset))\n",
    "train_set = torch.utils.data.Subset(dataset, indices[:train_ind])\n",
    "val_set = torch.utils.data.Subset(dataset, indices[train_ind:])\n",
    "del dataset\n",
    "\n",
    "print(len(train_set))\n",
    "print(len(val_set))\n",
    "\n",
    "train_loader = torch.utils.data.DataLoader(train_set, batch_size=batch_size, shuffle=True, pin_memory=True)\n",
    "val_loader = torch.utils.data.DataLoader(val_set, batch_size=batch_size, shuffle=False, pin_memory=True)\n"
   ]
  },
  {
   "cell_type": "code",
   "execution_count": 5,
   "id": "b4425e1c-e9b8-4915-b198-f5277f165f77",
   "metadata": {},
   "outputs": [
    {
     "name": "stdout",
     "output_type": "stream",
     "text": [
      "1024\n",
      "256\n"
     ]
    }
   ],
   "source": [
    "#@title Dataset Parameters { vertical-output: true }\n",
    "model_type = \"classification\" #@param [\"classification\", \"regression\"]\n",
    "batch_size = 8 #@param {type:\"integer\"}\n",
    "\n",
    "if model_type == \"classification\":\n",
    "    dataset = DeapS2SDatasetClassification('data_preprocessed_python')\n",
    "\n",
    "\n",
    "torch.manual_seed(1)\n",
    "indices = torch.randperm(len(dataset)).tolist()\n",
    "train_ind = int(0.8 * len(dataset))\n",
    "train_set = torch.utils.data.Subset(dataset, indices[:train_ind])\n",
    "val_set = torch.utils.data.Subset(dataset, indices[train_ind:])\n",
    "del dataset\n",
    "\n",
    "print(len(train_set))\n",
    "print(len(val_set))\n",
    "\n",
    "train_loader = torch.utils.data.DataLoader(train_set, batch_size=batch_size, shuffle=True, pin_memory=True)\n",
    "val_loader = torch.utils.data.DataLoader(val_set, batch_size=batch_size, shuffle=False, pin_memory=True)\n"
   ]
  },
  {
   "cell_type": "code",
   "execution_count": 6,
   "id": "6e5778a8-ef3e-4074-95eb-e2b4bb9e47cf",
   "metadata": {},
   "outputs": [],
   "source": [
    "class ClassificationLSTM(nn.Module):\n",
    "    def __init__(self, n_layers, in_features, emb_dim, out_features=1):\n",
    "        super(ClassificationLSTM, self).__init__()\n",
    "\n",
    "        self.lstm = nn.LSTM(in_features, emb_dim, n_layers, bidirectional=False,dropout=0.2)\n",
    "        self.relu = nn.ReLU()\n",
    "        self.out = nn.Linear(emb_dim * 2, out_features)\n",
    "        self.dropout = nn.Dropout(0.2)\n",
    "        self.sig = nn.Sigmoid()\n",
    "    \n",
    "    def forward(self, x):\n",
    "        _, (hn, cn) = self.lstm(x)\n",
    "        hidden = self.dropout(torch.cat((hn[-2,:,:], hn[-1,:,:]), dim = 1))\n",
    "        return self.sig(self.out(self.relu(hidden)))\n",
    "        "
   ]
  },
  {
   "cell_type": "code",
   "execution_count": 8,
   "id": "834337a2-4fc1-4c0d-a6cd-5263b5ec602e",
   "metadata": {},
   "outputs": [],
   "source": [
    "if model_type == \"classification\":\n",
    "    model = ClassificationLSTM(2, 40, 256)\n",
    "    loss_fn = nn.BCELoss()\n",
    "\n",
    "\n",
    "model.cuda()\n",
    "\n",
    "EPOCH = 15\n",
    "lr = 0.0001\n",
    "optimizer = torch.optim.AdamW(model.parameters(), lr=lr)"
   ]
  },
  {
   "cell_type": "code",
   "execution_count": 9,
   "id": "f9e16b94-0ea8-47e1-abcf-11a2da355ee9",
   "metadata": {},
   "outputs": [
    {
     "name": "stdout",
     "output_type": "stream",
     "text": [
      "Epoch : 0 train_loss : 0.6945757125504315 val_loss : 0.6879765037447214\n",
      "Epoch : 1 train_loss : 0.6755570922978222 val_loss : 0.677331417798996\n",
      "Epoch : 2 train_loss : 0.6617145631462336 val_loss : 0.6764153726398945\n",
      "Epoch : 3 train_loss : 0.6443899124860764 val_loss : 0.6722725220024586\n",
      "Epoch : 4 train_loss : 0.6228747379500419 val_loss : 0.6816079523414373\n",
      "Epoch : 5 train_loss : 0.5926175517961383 val_loss : 0.6811761260032654\n",
      "Epoch : 6 train_loss : 0.54087861510925 val_loss : 0.7180230915546417\n",
      "Epoch : 7 train_loss : 0.4907861640676856 val_loss : 0.762787769548595\n",
      "Epoch : 8 train_loss : 0.4452546329703182 val_loss : 0.8006273191422224\n",
      "Epoch : 9 train_loss : 0.4240187435061671 val_loss : 0.8487531067803502\n",
      "Epoch : 10 train_loss : 0.3966486536664888 val_loss : 0.9707826832309365\n",
      "Epoch : 11 train_loss : 0.3545780854765326 val_loss : 0.9984651366248727\n",
      "Epoch : 12 train_loss : 0.33014538063434884 val_loss : 1.005718432366848\n",
      "Epoch : 13 train_loss : 0.3096048622392118 val_loss : 1.0946714952588081\n",
      "Epoch : 14 train_loss : 0.3085998175374698 val_loss : 1.0502646742388606\n"
     ]
    }
   ],
   "source": [
    "train_loss_list = []\n",
    "val_loss_list = []\n",
    "val_over_all = np.inf\n",
    "for epoch in range(EPOCH):\n",
    "    model.train()\n",
    "    train_loss = 0\n",
    "\n",
    "    for i, batch in enumerate(train_loader):\n",
    "        data = batch['data'].permute(2, 0, 1).cuda()\n",
    "        label = batch['label'].cuda()\n",
    "\n",
    "        optimizer.zero_grad()\n",
    "        output = model(data)\n",
    "        loss = loss_fn(output, label)\n",
    "        loss.backward()\n",
    "        optimizer.step()\n",
    "\n",
    "        train_loss += loss.item()\n",
    "\n",
    "    train_loss_list.append(train_loss/len(train_loader))\n",
    "\n",
    "    model.eval()\n",
    "    val_loss = 0\n",
    "    with torch.no_grad():\n",
    "        for i, batch in enumerate(val_loader):\n",
    "\n",
    "            data = batch['data'].permute(2, 0, 1).cuda()\n",
    "            label = batch['label'].cuda()\n",
    "            output = model(data)\n",
    "            loss = loss_fn(output, label)\n",
    "            val_loss += loss.item()\n",
    "\n",
    "    val_loss_list.append(val_loss/len(val_loader))\n",
    "    print('Epoch : {} train_loss : {} val_loss : {}'.format(epoch, train_loss/len(train_loader), val_loss/len(val_loader)))  \n",
    "\n",
    "    if val_loss_list[-1] < val_over_all:\n",
    "        val_over_all = val_loss_list[-1]\n",
    "        ckpt = {\n",
    "            'model_dict': model.state_dict(),\n",
    "            'eval_loss': val_loss_list[-1]\n",
    "        }\n",
    "\n",
    "        torch.save(ckpt, 'base_lstm.pt')"
   ]
  },
  {
   "cell_type": "code",
   "execution_count": 10,
   "id": "a2371e6e-89d6-43e4-9a79-2602f6ce4eec",
   "metadata": {},
   "outputs": [
    {
     "name": "stderr",
     "output_type": "stream",
     "text": [
      "/tmp/ipykernel_418/4120579341.py:19: DeprecationWarning: `np.int` is a deprecated alias for the builtin `int`. To silence this warning, use `int` by itself. Doing this will not modify any behavior and is safe. When replacing `np.int`, you may wish to use e.g. `np.int64` or `np.int32` to specify the precision. If you wish to review your current use, check the release note link for additional information.\n",
      "Deprecated in NumPy 1.20; for more details and guidance: https://numpy.org/devdocs/release/1.20.0-notes.html#deprecations\n",
      "  fin_outputs.append(np.asarray((output.cpu().detach().numpy()>0.5), dtype=np.int))\n"
     ]
    },
    {
     "name": "stdout",
     "output_type": "stream",
     "text": [
      "Accuracy : 0.6015625\n",
      "Precision: 0.8\n",
      "Recall: 0.6464646464646465\n",
      "F1score: 0.7150837988826817\n"
     ]
    }
   ],
   "source": [
    "ckpt = torch.load('base_lstm.pt')\n",
    "model.load_state_dict(ckpt['model_dict'])\n",
    "model.cuda()\n",
    "model.eval()\n",
    "\n",
    "if model_type == \"classification\":\n",
    "\n",
    "    \n",
    "\n",
    "    fin_targets = []\n",
    "    fin_outputs = []\n",
    "    with torch.no_grad():\n",
    "        for i, batch in enumerate(val_loader):\n",
    "\n",
    "            data = batch['data'].permute(2, 0, 1).cuda()\n",
    "            label = batch['label']\n",
    "            output = model(data)\n",
    "            fin_targets.append(label.numpy())\n",
    "            fin_outputs.append(np.asarray((output.cpu().detach().numpy()>0.5), dtype=np.int))\n",
    "\n",
    "    acc = accuracy_score(np.vstack(fin_outputs).flatten(), np.vstack(fin_targets).flatten())\n",
    "    precision = precision_score(np.vstack(fin_outputs).flatten(), np.vstack(fin_targets).flatten())\n",
    "    recall = recall_score(np.vstack(fin_outputs).flatten(), np.vstack(fin_targets).flatten())\n",
    "    f1score = f1_score(np.vstack(fin_outputs).flatten(), np.vstack(fin_targets).flatten())\n",
    "\n",
    "    print('Accuracy : {}'.format(acc))\n",
    "    print('Precision: {}'.format(precision))\n",
    "    print('Recall: {}'.format(recall))\n",
    "    print('F1score: {}'.format(f1score))"
   ]
  },
  {
   "cell_type": "code",
   "execution_count": 11,
   "id": "801458f5-349b-4424-b4fc-7e329e267b97",
   "metadata": {},
   "outputs": [
    {
     "name": "stdout",
     "output_type": "stream",
     "text": [
      "ClassificationLSTM(\n",
      "  (lstm): LSTM(40, 256, num_layers=2, dropout=0.2)\n",
      "  (relu): ReLU()\n",
      "  (out): Linear(in_features=512, out_features=1, bias=True)\n",
      "  (dropout): Dropout(p=0.2, inplace=False)\n",
      "  (sig): Sigmoid()\n",
      ")\n"
     ]
    }
   ],
   "source": [
    "print(model)"
   ]
  },
  {
   "cell_type": "code",
   "execution_count": 12,
   "id": "beaa84ed-e1df-4a8a-8e3c-9179162a1aa9",
   "metadata": {},
   "outputs": [
    {
     "name": "stdout",
     "output_type": "stream",
     "text": [
      "torch.Size([8, 40, 8064])\n",
      "torch.Size([8, 1])\n"
     ]
    }
   ],
   "source": [
    "dataiter = iter(train_loader)\n",
    "data = dataiter.next()\n",
    "images, labels = data['data'],data['label']\n",
    "print(images.shape)\n",
    "print(labels.shape)"
   ]
  },
  {
   "cell_type": "code",
   "execution_count": null,
   "id": "379ffa6f-428e-4df2-a664-24c33da74955",
   "metadata": {},
   "outputs": [],
   "source": []
  }
 ],
 "metadata": {
  "kernelspec": {
   "display_name": "Python 3 (ipykernel)",
   "language": "python",
   "name": "python3"
  },
  "language_info": {
   "codemirror_mode": {
    "name": "ipython",
    "version": 3
   },
   "file_extension": ".py",
   "mimetype": "text/x-python",
   "name": "python",
   "nbconvert_exporter": "python",
   "pygments_lexer": "ipython3",
   "version": "3.9.7"
  }
 },
 "nbformat": 4,
 "nbformat_minor": 5
}
