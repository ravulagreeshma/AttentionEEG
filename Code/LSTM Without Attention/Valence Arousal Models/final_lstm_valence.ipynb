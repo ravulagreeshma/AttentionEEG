{
 "cells": [
  {
   "cell_type": "code",
   "execution_count": 1,
   "id": "710f2f9c-e9b8-40ed-916d-01edfe73c23d",
   "metadata": {},
   "outputs": [
    {
     "name": "stdout",
     "output_type": "stream",
     "text": [
      "Tue Nov 30 14:40:44 2021       \n",
      "+-----------------------------------------------------------------------------+\n",
      "| NVIDIA-SMI 460.91.03    Driver Version: 460.91.03    CUDA Version: 11.2     |\n",
      "|-------------------------------+----------------------+----------------------+\n",
      "| GPU  Name        Persistence-M| Bus-Id        Disp.A | Volatile Uncorr. ECC |\n",
      "| Fan  Temp  Perf  Pwr:Usage/Cap|         Memory-Usage | GPU-Util  Compute M. |\n",
      "|                               |                      |               MIG M. |\n",
      "|===============================+======================+======================|\n",
      "|   0  GeForce RTX 208...  Off  | 00000000:84:00.0 Off |                  N/A |\n",
      "| 24%   35C    P8    11W / 250W |   4609MiB / 11019MiB |      0%      Default |\n",
      "|                               |                      |                  N/A |\n",
      "+-------------------------------+----------------------+----------------------+\n",
      "|   1  GeForce RTX 208...  Off  | 00000000:85:00.0 Off |                  N/A |\n",
      "| 22%   28C    P8     2W / 250W |      3MiB / 11019MiB |      0%      Default |\n",
      "|                               |                      |                  N/A |\n",
      "+-------------------------------+----------------------+----------------------+\n",
      "|   2  GeForce RTX 208...  Off  | 00000000:88:00.0 Off |                  N/A |\n",
      "| 22%   30C    P8    15W / 250W |      3MiB / 11019MiB |      0%      Default |\n",
      "|                               |                      |                  N/A |\n",
      "+-------------------------------+----------------------+----------------------+\n",
      "|   3  GeForce RTX 208...  Off  | 00000000:89:00.0 Off |                  N/A |\n",
      "| 52%   84C    P2   215W / 250W |   5924MiB / 11019MiB |     89%      Default |\n",
      "|                               |                      |                  N/A |\n",
      "+-------------------------------+----------------------+----------------------+\n",
      "                                                                               \n",
      "+-----------------------------------------------------------------------------+\n",
      "| Processes:                                                                  |\n",
      "|  GPU   GI   CI        PID   Type   Process name                  GPU Memory |\n",
      "|        ID   ID                                                   Usage      |\n",
      "|=============================================================================|\n",
      "+-----------------------------------------------------------------------------+\n"
     ]
    }
   ],
   "source": [
    "!nvidia-smi"
   ]
  },
  {
   "cell_type": "code",
   "execution_count": 2,
   "id": "201e2af2-a16c-47b8-81ad-7e8e62086791",
   "metadata": {},
   "outputs": [],
   "source": [
    "import torch\n",
    "from torch import nn\n",
    "import torch.nn.functional as F\n",
    "\n",
    "from sklearn.metrics import accuracy_score, f1_score, precision_score, recall_score\n",
    "from sklearn.metrics import mean_absolute_error, mean_squared_error, r2_score\n",
    "\n",
    "import os\n",
    "import pickle\n",
    "import numpy as np\n",
    "import math\n",
    "import matplotlib.pyplot as plt"
   ]
  },
  {
   "cell_type": "code",
   "execution_count": 3,
   "id": "92bcc51b-8049-4c34-a2c4-4bd392c270d4",
   "metadata": {},
   "outputs": [],
   "source": [
    "class DeapS2SDatasetClassification(torch.utils.data.Dataset):\n",
    "    \n",
    "    def __init__(self, path):\n",
    "\n",
    "        _, _, filenames = next(os.walk(path))\n",
    "        filenames = sorted(filenames)\n",
    "        all_data = []\n",
    "        all_label = []\n",
    "        for dat in filenames:\n",
    "            temp = pickle.load(open(os.path.join(path, dat), 'rb'), encoding='latin1')\n",
    "            all_data.append(temp['data'])\n",
    "            all_label.append(temp['labels'][:,:1])\n",
    "\n",
    "        self.data = np.vstack(all_data)\n",
    "        self.label = np.vstack(all_label)\n",
    "        del temp, all_data, all_label\n",
    "\n",
    "    def __len__(self):\n",
    "        return self.data.shape[0]\n",
    "\n",
    "    def __getitem__(self, idx):\n",
    "        single_data = self.data[idx]\n",
    "        single_label = (self.label[idx] > 5).astype(float)\n",
    "        \n",
    "        batch = {\n",
    "            'data': torch.Tensor(single_data),\n",
    "            'label': torch.Tensor(single_label)\n",
    "        }\n",
    "\n",
    "        return batch"
   ]
  },
  {
   "cell_type": "code",
   "execution_count": 4,
   "id": "da64d1e4-7c67-41b9-ae1d-a9730340d80c",
   "metadata": {},
   "outputs": [
    {
     "name": "stdout",
     "output_type": "stream",
     "text": [
      "1024\n",
      "256\n"
     ]
    }
   ],
   "source": [
    "#@title Dataset Parameters { vertical-output: true }\n",
    "model_type = \"classification\" #@param [\"classification\", \"regression\"]\n",
    "batch_size = 8 #@param {type:\"integer\"}\n",
    "\n",
    "if model_type == \"classification\":\n",
    "    dataset = DeapS2SDatasetClassification('data_preprocessed_python')\n",
    "\n",
    "\n",
    "torch.manual_seed(1)\n",
    "indices = torch.randperm(len(dataset)).tolist()\n",
    "train_ind = int(0.8 * len(dataset))\n",
    "train_set = torch.utils.data.Subset(dataset, indices[:train_ind])\n",
    "val_set = torch.utils.data.Subset(dataset, indices[train_ind:])\n",
    "del dataset\n",
    "\n",
    "print(len(train_set))\n",
    "print(len(val_set))\n",
    "\n",
    "train_loader = torch.utils.data.DataLoader(train_set, batch_size=batch_size, shuffle=True, pin_memory=True)\n",
    "val_loader = torch.utils.data.DataLoader(val_set, batch_size=batch_size, shuffle=False, pin_memory=True)\n"
   ]
  },
  {
   "cell_type": "code",
   "execution_count": 5,
   "id": "57436c88-abda-491f-b32f-92a67730d862",
   "metadata": {},
   "outputs": [],
   "source": [
    "class ClassificationLSTM(nn.Module):\n",
    "    def __init__(self, n_layers, in_features, emb_dim, out_features=1):\n",
    "        super(ClassificationLSTM, self).__init__()\n",
    "\n",
    "        self.lstm = nn.LSTM(in_features, emb_dim, n_layers, bidirectional=True,dropout=0.2)\n",
    "        self.relu = nn.ReLU()\n",
    "        self.out = nn.Linear(emb_dim * 2, out_features)\n",
    "        self.dropout = nn.Dropout(0.2)\n",
    "        self.sig = nn.Sigmoid()\n",
    "    \n",
    "    def forward(self, x):\n",
    "        _, (hn, cn) = self.lstm(x)\n",
    "        hidden = self.dropout(torch.cat((hn[-2,:,:], hn[-1,:,:]), dim = 1))\n",
    "        return self.sig(self.out(self.relu(hidden)))\n",
    "        "
   ]
  },
  {
   "cell_type": "code",
   "execution_count": 6,
   "id": "f4582883-d52c-4db4-9254-3b1cf450901d",
   "metadata": {},
   "outputs": [],
   "source": [
    "if model_type == \"classification\":\n",
    "    model = ClassificationLSTM(2, 40, 256)\n",
    "    loss_fn = nn.BCELoss()\n",
    "\n",
    "\n",
    "model.cuda()\n",
    "\n",
    "EPOCH = 15\n",
    "lr = 0.0001\n",
    "optimizer = torch.optim.AdamW(model.parameters(), lr=lr)"
   ]
  },
  {
   "cell_type": "code",
   "execution_count": 7,
   "id": "81216f83-1ab4-434b-a25e-68f6c54086de",
   "metadata": {},
   "outputs": [
    {
     "name": "stdout",
     "output_type": "stream",
     "text": [
      "Epoch : 0 train_loss : 0.6903091161511838 val_loss : 0.6891791336238384\n",
      "Epoch : 1 train_loss : 0.6619729460217059 val_loss : 0.6867890786379576\n",
      "Epoch : 2 train_loss : 0.6375969862565398 val_loss : 0.6920644044876099\n",
      "Epoch : 3 train_loss : 0.5909550855867565 val_loss : 0.7181844767183065\n",
      "Epoch : 4 train_loss : 0.5179760453756899 val_loss : 0.7373541621491313\n",
      "Epoch : 5 train_loss : 0.41611088684294373 val_loss : 0.7909911423921585\n",
      "Epoch : 6 train_loss : 0.3066539923893288 val_loss : 0.9303814098238945\n",
      "Epoch : 7 train_loss : 0.24159941598190926 val_loss : 0.9409756232053041\n",
      "Epoch : 8 train_loss : 0.17151343960722443 val_loss : 1.2017004219815135\n",
      "Epoch : 9 train_loss : 0.12643137469422072 val_loss : 1.206684898585081\n",
      "Epoch : 10 train_loss : 0.11794311651829048 val_loss : 1.2494973381981254\n",
      "Epoch : 11 train_loss : 0.09003518785175402 val_loss : 1.4474006835371256\n",
      "Epoch : 12 train_loss : 0.15321640261026914 val_loss : 1.392175069078803\n",
      "Epoch : 13 train_loss : 0.10519062899402343 val_loss : 1.3871552096679807\n",
      "Epoch : 14 train_loss : 0.04976902139605954 val_loss : 1.5436626430600882\n"
     ]
    }
   ],
   "source": [
    "train_loss_list = []\n",
    "val_loss_list = []\n",
    "val_over_all = np.inf\n",
    "for epoch in range(EPOCH):\n",
    "    model.train()\n",
    "    train_loss = 0\n",
    "\n",
    "    for i, batch in enumerate(train_loader):\n",
    "        data = batch['data'].permute(2, 0, 1).cuda()\n",
    "        label = batch['label'].cuda()\n",
    "\n",
    "        optimizer.zero_grad()\n",
    "        output = model(data)\n",
    "        loss = loss_fn(output, label)\n",
    "        loss.backward()\n",
    "        optimizer.step()\n",
    "\n",
    "        train_loss += loss.item()\n",
    "\n",
    "    train_loss_list.append(train_loss/len(train_loader))\n",
    "\n",
    "    model.eval()\n",
    "    val_loss = 0\n",
    "    with torch.no_grad():\n",
    "        for i, batch in enumerate(val_loader):\n",
    "\n",
    "            data = batch['data'].permute(2, 0, 1).cuda()\n",
    "            label = batch['label'].cuda()\n",
    "            output = model(data)\n",
    "            loss = loss_fn(output, label)\n",
    "            val_loss += loss.item()\n",
    "\n",
    "    val_loss_list.append(val_loss/len(val_loader))\n",
    "    print('Epoch : {} train_loss : {} val_loss : {}'.format(epoch, train_loss/len(train_loader), val_loss/len(val_loader)))  \n",
    "\n",
    "    if val_loss_list[-1] < val_over_all:\n",
    "        val_over_all = val_loss_list[-1]\n",
    "        ckpt = {\n",
    "            'model_dict': model.state_dict(),\n",
    "            'eval_loss': val_loss_list[-1]\n",
    "        }\n",
    "\n",
    "        torch.save(ckpt, 'base_lstm.pt')"
   ]
  },
  {
   "cell_type": "code",
   "execution_count": 8,
   "id": "e677e2b1-4196-496a-8435-d5ee4efc698e",
   "metadata": {},
   "outputs": [
    {
     "name": "stderr",
     "output_type": "stream",
     "text": [
      "/tmp/ipykernel_725/4120579341.py:19: DeprecationWarning: `np.int` is a deprecated alias for the builtin `int`. To silence this warning, use `int` by itself. Doing this will not modify any behavior and is safe. When replacing `np.int`, you may wish to use e.g. `np.int64` or `np.int32` to specify the precision. If you wish to review your current use, check the release note link for additional information.\n",
      "Deprecated in NumPy 1.20; for more details and guidance: https://numpy.org/devdocs/release/1.20.0-notes.html#deprecations\n",
      "  fin_outputs.append(np.asarray((output.cpu().detach().numpy()>0.5), dtype=np.int))\n"
     ]
    },
    {
     "name": "stdout",
     "output_type": "stream",
     "text": [
      "Accuracy : 0.5390625\n",
      "Precision: 0.7785714285714286\n",
      "Recall: 0.5561224489795918\n",
      "F1score: 0.6488095238095238\n"
     ]
    }
   ],
   "source": [
    "ckpt = torch.load('base_lstm.pt')\n",
    "model.load_state_dict(ckpt['model_dict'])\n",
    "model.cuda()\n",
    "model.eval()\n",
    "\n",
    "if model_type == \"classification\":\n",
    "\n",
    "    \n",
    "\n",
    "    fin_targets = []\n",
    "    fin_outputs = []\n",
    "    with torch.no_grad():\n",
    "        for i, batch in enumerate(val_loader):\n",
    "\n",
    "            data = batch['data'].permute(2, 0, 1).cuda()\n",
    "            label = batch['label']\n",
    "            output = model(data)\n",
    "            fin_targets.append(label.numpy())\n",
    "            fin_outputs.append(np.asarray((output.cpu().detach().numpy()>0.5), dtype=np.int))\n",
    "\n",
    "    acc = accuracy_score(np.vstack(fin_outputs).flatten(), np.vstack(fin_targets).flatten())\n",
    "    precision = precision_score(np.vstack(fin_outputs).flatten(), np.vstack(fin_targets).flatten())\n",
    "    recall = recall_score(np.vstack(fin_outputs).flatten(), np.vstack(fin_targets).flatten())\n",
    "    f1score = f1_score(np.vstack(fin_outputs).flatten(), np.vstack(fin_targets).flatten())\n",
    "\n",
    "    print('Accuracy : {}'.format(acc))\n",
    "    print('Precision: {}'.format(precision))\n",
    "    print('Recall: {}'.format(recall))\n",
    "    print('F1score: {}'.format(f1score))"
   ]
  },
  {
   "cell_type": "code",
   "execution_count": 9,
   "id": "3f8ce6f2-59d6-4f72-8272-a79b3f982fc4",
   "metadata": {},
   "outputs": [
    {
     "name": "stdout",
     "output_type": "stream",
     "text": [
      "ClassificationLSTM(\n",
      "  (lstm): LSTM(40, 256, num_layers=2, dropout=0.2, bidirectional=True)\n",
      "  (relu): ReLU()\n",
      "  (out): Linear(in_features=512, out_features=1, bias=True)\n",
      "  (dropout): Dropout(p=0.2, inplace=False)\n",
      "  (sig): Sigmoid()\n",
      ")\n"
     ]
    }
   ],
   "source": [
    "print(model)"
   ]
  },
  {
   "cell_type": "code",
   "execution_count": 10,
   "id": "b9bb28d7-756a-4f08-b038-3e03b8619f62",
   "metadata": {},
   "outputs": [
    {
     "name": "stdout",
     "output_type": "stream",
     "text": [
      "torch.Size([8, 40, 8064])\n",
      "torch.Size([8, 1])\n"
     ]
    }
   ],
   "source": [
    "dataiter = iter(train_loader)\n",
    "data = dataiter.next()\n",
    "images, labels = data['data'],data['label']\n",
    "print(images.shape)\n",
    "print(labels.shape)"
   ]
  }
 ],
 "metadata": {
  "kernelspec": {
   "display_name": "Python 3 (ipykernel)",
   "language": "python",
   "name": "python3"
  },
  "language_info": {
   "codemirror_mode": {
    "name": "ipython",
    "version": 3
   },
   "file_extension": ".py",
   "mimetype": "text/x-python",
   "name": "python",
   "nbconvert_exporter": "python",
   "pygments_lexer": "ipython3",
   "version": "3.9.7"
  }
 },
 "nbformat": 4,
 "nbformat_minor": 5
}
